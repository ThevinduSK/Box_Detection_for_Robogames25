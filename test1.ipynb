{
 "cells": [
  {
   "cell_type": "code",
   "execution_count": null,
   "metadata": {},
   "outputs": [
    {
     "name": "stdout",
     "output_type": "stream",
     "text": [
      "\n",
      "0: 416x416 1 yellow_box, 14.1ms\n",
      "Speed: 3.0ms preprocess, 14.1ms inference, 1.8ms postprocess per image at shape (1, 3, 416, 416)\n"
     ]
    },
    {
     "data": {
      "text/plain": [
       "True"
      ]
     },
     "execution_count": 4,
     "metadata": {},
     "output_type": "execute_result"
    }
   ],
   "source": [
    "import os\n",
    "os.environ[\"KMP_DUPLICATE_LIB_OK\"] = \"TRUE\"\n",
    "\n",
    "from ultralytics import YOLO\n",
    "import cv2\n",
    "\n",
    "# Optional: Fix OpenMP runtime issue\n",
    "\n",
    "\n",
    "# Load your trained YOLO model\n",
    "model = YOLO(\"final.pt\")  # Assumes best.pt is in the same directory\n",
    "\n",
    "# Set the path to the image you want to test\n",
    "# image_path = r\"C:\\Repositories\\Robogames_final-working-with-Kobuki-robot-\\Box detection model\\yolov5\\dataset\\test\\images\\11_jpg.rf.e25db6133b497957cc58f53f6964ec92.jpg\"  # 🔁 Replace with your image file\n",
    "image_path = r\"C:\\Repositories\\Robogames_final-working-with-Kobuki-robot-\\Box detection model\\yolov5\\dataset\\test\\images\\12_jpg.rf.8d21049d3b30e3aa88f62f04b76d8fef.jpg\"\n",
    "# Load and run inference\n",
    "image = cv2.imread(image_path)\n",
    "results = model(image)\n",
    "\n",
    "# Draw boxes and labels on the image\n",
    "for r in results:\n",
    "    for box in r.boxes:\n",
    "        cls_id = int(box.cls[0])\n",
    "        conf = float(box.conf[0])\n",
    "        x1, y1, x2, y2 = map(int, box.xyxy[0])\n",
    "        label = f\"{model.names[cls_id]} {conf:.2f}\"\n",
    "\n",
    "        # Draw rectangle and label\n",
    "        cv2.rectangle(image, (x1, y1), (x2, y2), (0, 255, 0), 2)\n",
    "        cv2.putText(image, label, (x1, y1 - 10), cv2.FONT_HERSHEY_SIMPLEX,\n",
    "                    0.9, (255, 255, 255), 2)\n",
    "\n",
    "# Show the result\n",
    "cv2.imshow(\"YOLOv5 Detection\", image)\n",
    "cv2.waitKey(0)\n",
    "cv2.destroyAllWindows()\n",
    "\n",
    "# Optional: save the result\n",
    "cv2.imwrite(\"output.jpg\", image)"
   ]
  }
 ],
 "metadata": {
  "kernelspec": {
   "display_name": "myenv4",
   "language": "python",
   "name": "python3"
  },
  "language_info": {
   "codemirror_mode": {
    "name": "ipython",
    "version": 3
   },
   "file_extension": ".py",
   "mimetype": "text/x-python",
   "name": "python",
   "nbconvert_exporter": "python",
   "pygments_lexer": "ipython3",
   "version": "3.8.19"
  }
 },
 "nbformat": 4,
 "nbformat_minor": 2
}
